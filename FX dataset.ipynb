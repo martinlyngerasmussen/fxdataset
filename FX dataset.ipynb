{
 "cells": [
  {
   "cell_type": "markdown",
   "metadata": {},
   "source": [
   ]
  },
  {
   "cell_type": "code",
   "execution_count": 1,
   "metadata": {},
   "outputs": [
    {
     "name": "stdout",
     "output_type": "stream",
     "text": [
      "Requirement already satisfied: quandl in c:\\users\\marti\\anaconda3\\lib\\site-packages (3.5.2)\n",
      "Requirement already satisfied: inflection>=0.3.1 in c:\\users\\marti\\anaconda3\\lib\\site-packages (from quandl) (0.5.1)\n",
      "Requirement already satisfied: six in c:\\users\\marti\\anaconda3\\lib\\site-packages (from quandl) (1.14.0)\n",
      "Requirement already satisfied: numpy>=1.8 in c:\\users\\marti\\anaconda3\\lib\\site-packages (from quandl) (1.18.1)\n",
      "Requirement already satisfied: more-itertools in c:\\users\\marti\\anaconda3\\lib\\site-packages (from quandl) (8.2.0)\n",
      "Requirement already satisfied: pandas>=0.14 in c:\\users\\marti\\anaconda3\\lib\\site-packages (from quandl) (1.1.4)\n",
      "Requirement already satisfied: python-dateutil in c:\\users\\marti\\anaconda3\\lib\\site-packages (from quandl) (2.8.1)\n",
      "Requirement already satisfied: requests>=2.7.0 in c:\\users\\marti\\anaconda3\\lib\\site-packages (from quandl) (2.24.0)\n",
      "Requirement already satisfied: pytz>=2017.2 in c:\\users\\marti\\anaconda3\\lib\\site-packages (from pandas>=0.14->quandl) (2019.3)\n",
      "Requirement already satisfied: chardet<4,>=3.0.2 in c:\\users\\marti\\anaconda3\\lib\\site-packages (from requests>=2.7.0->quandl) (3.0.4)\n",
      "Requirement already satisfied: idna<3,>=2.5 in c:\\users\\marti\\anaconda3\\lib\\site-packages (from requests>=2.7.0->quandl) (2.8)\n",
      "Requirement already satisfied: urllib3!=1.25.0,!=1.25.1,<1.26,>=1.21.1 in c:\\users\\marti\\anaconda3\\lib\\site-packages (from requests>=2.7.0->quandl) (1.25.8)\n",
      "Requirement already satisfied: certifi>=2017.4.17 in c:\\users\\marti\\anaconda3\\lib\\site-packages (from requests>=2.7.0->quandl) (2019.11.28)\n",
      "Note: you may need to restart the kernel to use updated packages.\n",
      "Requirement already satisfied: fredapi in c:\\users\\marti\\anaconda3\\lib\\site-packages (0.4.2)\n",
      "Requirement already satisfied: pandas in c:\\users\\marti\\anaconda3\\lib\\site-packages (from fredapi) (1.1.4)\n",
      "Requirement already satisfied: pytz>=2017.2 in c:\\users\\marti\\anaconda3\\lib\\site-packages (from pandas->fredapi) (2019.3)\n",
      "Requirement already satisfied: python-dateutil>=2.7.3 in c:\\users\\marti\\anaconda3\\lib\\site-packages (from pandas->fredapi) (2.8.1)\n",
      "Requirement already satisfied: numpy>=1.15.4 in c:\\users\\marti\\anaconda3\\lib\\site-packages (from pandas->fredapi) (1.18.1)\n",
      "Requirement already satisfied: six>=1.5 in c:\\users\\marti\\anaconda3\\lib\\site-packages (from python-dateutil>=2.7.3->pandas->fredapi) (1.14.0)\n",
      "Note: you may need to restart the kernel to use updated packages.\n",
      "Requirement already satisfied: DBnomics in c:\\users\\marti\\anaconda3\\lib\\site-packages (1.2.0)\n",
      "Requirement already satisfied: pandas>=0.21 in c:\\users\\marti\\anaconda3\\lib\\site-packages (from DBnomics) (1.1.4)\n",
      "Requirement already satisfied: requests>=2.18.4 in c:\\users\\marti\\anaconda3\\lib\\site-packages (from DBnomics) (2.24.0)\n",
      "Requirement already satisfied: python-dateutil>=2.7.3 in c:\\users\\marti\\anaconda3\\lib\\site-packages (from pandas>=0.21->DBnomics) (2.8.1)\n",
      "Requirement already satisfied: numpy>=1.15.4 in c:\\users\\marti\\anaconda3\\lib\\site-packages (from pandas>=0.21->DBnomics) (1.18.1)\n",
      "Requirement already satisfied: pytz>=2017.2 in c:\\users\\marti\\anaconda3\\lib\\site-packages (from pandas>=0.21->DBnomics) (2019.3)\n",
      "Requirement already satisfied: chardet<4,>=3.0.2 in c:\\users\\marti\\anaconda3\\lib\\site-packages (from requests>=2.18.4->DBnomics) (3.0.4)\n",
      "Requirement already satisfied: urllib3!=1.25.0,!=1.25.1,<1.26,>=1.21.1 in c:\\users\\marti\\anaconda3\\lib\\site-packages (from requests>=2.18.4->DBnomics) (1.25.8)\n",
      "Requirement already satisfied: certifi>=2017.4.17 in c:\\users\\marti\\anaconda3\\lib\\site-packages (from requests>=2.18.4->DBnomics) (2019.11.28)\n",
      "Requirement already satisfied: idna<3,>=2.5 in c:\\users\\marti\\anaconda3\\lib\\site-packages (from requests>=2.18.4->DBnomics) (2.8)\n",
      "Requirement already satisfied: six>=1.5 in c:\\users\\marti\\anaconda3\\lib\\site-packages (from python-dateutil>=2.7.3->pandas>=0.21->DBnomics) (1.14.0)\n",
      "Note: you may need to restart the kernel to use updated packages.\n"
     ]
    }
   ],
   "source": [
    "import pandas as pd\n",
    "import requests\n",
    "import json\n",
    "import inspect\n",
    "%pip install quandl\n",
    "%pip install fredapi\n",
    "%pip install DBnomics\n",
    "import quandl\n",
    "quandl.ApiConfig.api_key = \"P8E9VjuyG6eJfHve8-rU\"\n",
    "import datetime as dt\n",
    "import time\n",
    "import csv\n",
    "import os\n",
    "\n",
    "import inspect\n",
    "\n",
    "os.chdir(\"C:/Users/marti/Dropbox/python_work/\")"
   ]
  },
  {
   "cell_type": "code",
   "execution_count": null,
   "metadata": {},
   "outputs": [],
   "source": []
  },
  {
   "cell_type": "code",
   "execution_count": 113,
   "metadata": {
    "scrolled": true
   },
   "outputs": [
    {
     "data": {
      "text/html": [
       "<div>\n",
       "<style scoped>\n",
       "    .dataframe tbody tr th:only-of-type {\n",
       "        vertical-align: middle;\n",
       "    }\n",
       "\n",
       "    .dataframe tbody tr th {\n",
       "        vertical-align: top;\n",
       "    }\n",
       "\n",
       "    .dataframe thead th {\n",
       "        text-align: right;\n",
       "    }\n",
       "</style>\n",
       "<table border=\"1\" class=\"dataframe\">\n",
       "  <thead>\n",
       "    <tr style=\"text-align: right;\">\n",
       "      <th></th>\n",
       "      <th>inflation_chinaminusus</th>\n",
       "    </tr>\n",
       "    <tr>\n",
       "      <th>date</th>\n",
       "      <th></th>\n",
       "    </tr>\n",
       "  </thead>\n",
       "  <tbody>\n",
       "    <tr>\n",
       "      <th>2005-01-31</th>\n",
       "      <td>-0.671845</td>\n",
       "    </tr>\n",
       "    <tr>\n",
       "      <th>2005-02-28</th>\n",
       "      <td>1.381747</td>\n",
       "    </tr>\n",
       "    <tr>\n",
       "      <th>2005-03-31</th>\n",
       "      <td>0.044527</td>\n",
       "    </tr>\n",
       "    <tr>\n",
       "      <th>2005-04-30</th>\n",
       "      <td>-1.265309</td>\n",
       "    </tr>\n",
       "    <tr>\n",
       "      <th>2005-05-31</th>\n",
       "      <td>-0.680830</td>\n",
       "    </tr>\n",
       "    <tr>\n",
       "      <th>...</th>\n",
       "      <td>...</td>\n",
       "    </tr>\n",
       "    <tr>\n",
       "      <th>2020-03-31</th>\n",
       "      <td>3.078134</td>\n",
       "    </tr>\n",
       "    <tr>\n",
       "      <th>2020-04-30</th>\n",
       "      <td>3.346881</td>\n",
       "    </tr>\n",
       "    <tr>\n",
       "      <th>2020-05-31</th>\n",
       "      <td>2.703359</td>\n",
       "    </tr>\n",
       "    <tr>\n",
       "      <th>2020-06-30</th>\n",
       "      <td>2.200566</td>\n",
       "    </tr>\n",
       "    <tr>\n",
       "      <th>2020-07-31</th>\n",
       "      <td>2.006146</td>\n",
       "    </tr>\n",
       "  </tbody>\n",
       "</table>\n",
       "<p>187 rows × 1 columns</p>\n",
       "</div>"
      ],
      "text/plain": [
       "            inflation_chinaminusus\n",
       "date                              \n",
       "2005-01-31               -0.671845\n",
       "2005-02-28                1.381747\n",
       "2005-03-31                0.044527\n",
       "2005-04-30               -1.265309\n",
       "2005-05-31               -0.680830\n",
       "...                            ...\n",
       "2020-03-31                3.078134\n",
       "2020-04-30                3.346881\n",
       "2020-05-31                2.703359\n",
       "2020-06-30                2.200566\n",
       "2020-07-31                2.006146\n",
       "\n",
       "[187 rows x 1 columns]"
      ]
     },
     "execution_count": 113,
     "metadata": {},
     "output_type": "execute_result"
    }
   ],
   "source": [
    "## Get economic data\n",
    "\n",
    "cpi_china = pd.DataFrame(quandl.get(\"NBSC/A01010101_M\") - 100)\n",
    "cpi_china.columns = [\"cpi_china_yoy\"]\n",
    "cpi_china.rename_axis(\"date\", axis='index', inplace=True)\n",
    "\n",
    "cpi_usa = pd.DataFrame(quandl.get(\"FRED/SUUR0000SA0\"))\n",
    "cpi_usa = cpi_usa.pct_change(periods=12)*100\n",
    "cpi_usa = cpi_usa.resample('M').last() ## Change date to be last day of the month\n",
    "cpi_usa.columns = [\"cpi_usa_yoy\"]\n",
    "\n",
    "# Calculate the difference between Chinese and US inflation rates\n",
    "cpi_usa = cpi_usa.loc[\"2005-01-01\" : \"2020-07-31\"]\n",
    "cpi_china = cpi_china.loc[\"2005-01-01\" : \"2020-07-31\"]\n",
    "\n",
    "cpi_differential = pd.DataFrame()\n",
    "cpi_differential[\"inflation_chinaminusus\"] = cpi_china[\"cpi_china_yoy\"] - cpi_usa[\"cpi_usa_yoy\"]\n",
    "cpi_differential.rename_axis(\"date\", axis='index', inplace=True)\n",
    "\n",
    "m2_yoy_china = pd.DataFrame(quandl.get(\"NBSC/A0B0102_M\"))\n",
    "m2_yoy_china.columns = [\"m2_yoy_china\"]\n",
    "\n",
    "# USDCNY\n",
    "usdcny = pd.DataFrame(quandl.get(\"FRED/EXCHUS\"))\n",
    "usdcny = usdcny.resample('M').last() ## Change date to be last day of the month\n",
    "usdcny.columns = [\"usdcny\"]\n",
    "usdcny.rename_axis(\"date\", axis='index', inplace=True)\n",
    "\n",
    "# US yields\n",
    "usa_treasuries = pd.DataFrame(quandl.get(\"USTREASURY/YIELD\"))\n",
    "usa_treasuries = usa_treasuries.resample('M').last() ## Change date to be last day of the month\n",
    "usa_treasuries.columns = usa_treasuries.columns.str.replace(' ', '').str.lower()\n",
    "usa_treasuries = usa_treasuries.rename({'Date': 'date'},axis=1)\n",
    "\n",
    "usa_10yr = pd.DataFrame()\n",
    "usa_10yr[\"usa_10yr\"] = usa_treasuries[\"10yr\"]\n",
    "usa_10yr.rename_axis(\"date\", axis='index', inplace=True)\n",
    "\n",
    "usa_2yr = pd.DataFrame()\n",
    "usa_2yr[\"usa_2yr\"] = usa_treasuries[\"2yr\"]\n",
    "usa_2yr.rename_axis(\"date\", axis='index', inplace=True)\n",
    "\n",
    "usa_yieldcurve_2vs10 = pd.DataFrame()\n",
    "usa_yieldcurve_2vs10[\"usa_yieldcurve_2vs10\"] = usa_10yr[\"usa_10yr\"] - usa_2yr[\"usa_2yr\"]\n",
    "cpi_differential"
   ]
  },
  {
   "cell_type": "code",
   "execution_count": null,
   "metadata": {},
   "outputs": [],
   "source": []
  },
  {
   "cell_type": "code",
   "execution_count": 36,
   "metadata": {},
   "outputs": [],
   "source": [
    "## Get economic policy uncertainty data\n",
    "china_epu_english = pd.read_excel(\"https://www.policyuncertainty.com/media/SCMP_China_Policy_Uncertainty_Data.xlsx\")\n",
    "china_epu_chinese_tpu = pd.read_excel(\"https://www.policyuncertainty.com/media/China_Mainland_Paper_EPU.xlsx\", 'TPU 2000 onwards', dtype={'year':int, 'month': int, 'TPU': int})\n",
    "china_epu_chinese_epu = pd.read_excel(\"https://www.policyuncertainty.com/media/China_Mainland_Paper_EPU.xlsx\", 'EPU 2000 onwards', dtype={'year':int, 'month': int, 'EPU': int})\n",
    "\n",
    "china_epu_english.drop(china_epu_english.index[310], inplace=True)\n",
    "china_epu_english[\"day\"] = \"28\"\n",
    "china_epu_english[\"date\"] = pd.to_datetime(china_epu_english[['year', 'month', 'day']])\n",
    "from pandas.tseries.offsets import MonthEnd\n",
    "china_epu_english['date'] = pd.to_datetime(china_epu_english['date'], format=\"%Y%m\")+MonthEnd(0)\n",
    "china_epu_english.drop(['year', 'month', 'day'], axis=1, inplace=True)\n",
    "china_epu_english.set_index(\"date\", inplace=True)\n",
    "china_epu_english.rename(columns={china_epu_english.columns[0]: \"china_epu_english\"}, inplace = True)\n",
    "\n",
    "china_epu_chinese_tpu[\"day\"] = \"28\"\n",
    "china_epu_chinese_tpu[\"date\"] = pd.to_datetime(china_epu_chinese_tpu[['year', 'month', 'day']])\n",
    "china_epu_chinese_tpu['date'] = pd.to_datetime(china_epu_chinese_tpu['date'], format=\"%Y%m\")+MonthEnd(0)\n",
    "china_epu_chinese_tpu.drop(['year', 'month', 'day'], axis=1, inplace=True)\n",
    "china_epu_chinese_tpu.set_index(\"date\", inplace=True)\n",
    "china_epu_chinese_tpu.rename(columns={china_epu_chinese_tpu.columns[0]: \"china_epu_chinese_tpu\"}, inplace = True)\n",
    "china_epu_chinese_tpu.columns = ['china_epu_chinese_tpu', 'column2', 'column3', 'column4'] \n",
    "china_epu_chinese_tpu.drop([\"column2\", \"column3\", \"column4\"],axis=1, inplace=True)\n"
   ]
  },
  {
   "cell_type": "code",
   "execution_count": null,
   "metadata": {},
   "outputs": [],
   "source": []
  },
  {
   "cell_type": "markdown",
   "metadata": {
    "scrolled": true
   },
   "source": [
    " "
   ]
  },
  {
   "cell_type": "code",
   "execution_count": null,
   "metadata": {
    "scrolled": true
   },
   "outputs": [],
   "source": []
  },
  {
   "cell_type": "code",
   "execution_count": 41,
   "metadata": {
    "scrolled": false
   },
   "outputs": [],
   "source": [
    "ceicdata = pd.read_excel(\"20201101 CEIC Chinese data.xlsx\")\n",
    "ceicdata = ceicdata.drop(ceicdata.index[0:5])\n",
    "ceicdata = ceicdata.drop(ceicdata.columns[2:4], axis=1)\n",
    "ceicdata= ceicdata.drop(list(ceicdata)[-14:], axis=1)\n",
    "ceicdata.rename(columns={ceicdata.columns[0]: \"date\"}, inplace = True)\n",
    "ceicdata['date'] = pd.to_datetime(ceicdata['date']).dt.date\n",
    "from pandas.tseries.offsets import MonthEnd\n",
    "ceicdata['date'] = pd.to_datetime(ceicdata['date'], format=\"%Y-%m-%d\") + MonthEnd(1)\n",
    "ceicdata.set_index(\"date\")\n",
    "\n",
    "china_2yr = ceicdata.drop(ceicdata.columns[12:], axis=1)\n",
    "china_2yr = china_2yr.drop(china_2yr.columns[1:3], axis=1)\n",
    "china_2yr = china_2yr.drop(china_2yr.columns[2:], axis=1)\n",
    "china_2yr = china_2yr.rename({'CN: Treasury Bond Yield: Interbank: Spot Yield: 2 year': 'china_2yr'},axis=1)\n",
    "\n",
    "china_10yr = ceicdata.drop(ceicdata.columns[12:], axis=1)\n",
    "china_10yr = china_10yr.drop(china_10yr.columns[1:11], axis=1)\n",
    "china_10yr = china_10yr.rename({'CN: Treasury Bond Yield: Interbank: Spot Yield: 10 year': 'china_10yr'},axis=1)\n",
    "\n",
    "china_yieldcurve_10vs2 = china_10yr\n",
    "china_yieldcurve_10vs2['china_yieldcurve_2vs10'] = china_10yr['china_10yr'] - china_2yr['china_2yr']\n",
    "china_yieldcurve_10vs2 = china_yieldcurve_10vs2.drop(china_yieldcurve_10vs2.columns[1], axis=1)\n",
    "\n",
    "china_bop_monthly = ceicdata.drop(ceicdata.columns[1:30], axis=1)\n",
    "china_bop_monthly = china_bop_monthly.rename({'CN: BoP: Current Account: Goods & Service': 'china_bop_monthly'},axis=1)"
   ]
  },
  {
   "cell_type": "code",
   "execution_count": 68,
   "metadata": {
    "scrolled": true
   },
   "outputs": [
    {
     "ename": "KeyError",
     "evalue": "'date'",
     "output_type": "error",
     "traceback": [
      "\u001b[1;31m---------------------------------------------------------------------------\u001b[0m",
      "\u001b[1;31mKeyError\u001b[0m                                  Traceback (most recent call last)",
      "\u001b[1;32m<ipython-input-68-1bf006d60b40>\u001b[0m in \u001b[0;36m<module>\u001b[1;34m\u001b[0m\n\u001b[0;32m      5\u001b[0m \u001b[0mfx_dataset\u001b[0m \u001b[1;33m=\u001b[0m \u001b[0mfx_dataset\u001b[0m\u001b[1;33m.\u001b[0m\u001b[0mmerge\u001b[0m\u001b[1;33m(\u001b[0m\u001b[0mchina_bop_monthly\u001b[0m\u001b[1;33m,\u001b[0m \u001b[0mhow\u001b[0m\u001b[1;33m=\u001b[0m\u001b[1;34m'left'\u001b[0m\u001b[1;33m)\u001b[0m\u001b[1;33m\u001b[0m\u001b[1;33m\u001b[0m\u001b[0m\n\u001b[0;32m      6\u001b[0m \u001b[0mfx_dataset\u001b[0m \u001b[1;33m=\u001b[0m \u001b[0mfx_dataset\u001b[0m\u001b[1;33m.\u001b[0m\u001b[0mmerge\u001b[0m\u001b[1;33m(\u001b[0m\u001b[0mchina_yieldcurve_10vs2\u001b[0m\u001b[1;33m,\u001b[0m \u001b[0mhow\u001b[0m\u001b[1;33m=\u001b[0m\u001b[1;34m'left'\u001b[0m\u001b[1;33m)\u001b[0m\u001b[1;33m\u001b[0m\u001b[1;33m\u001b[0m\u001b[0m\n\u001b[1;32m----> 7\u001b[1;33m \u001b[0mfx_dataset\u001b[0m \u001b[1;33m=\u001b[0m \u001b[0mfx_dataset\u001b[0m\u001b[1;33m.\u001b[0m\u001b[0mmerge\u001b[0m\u001b[1;33m(\u001b[0m\u001b[0musa_10yr\u001b[0m\u001b[1;33m,\u001b[0m \u001b[0mhow\u001b[0m\u001b[1;33m=\u001b[0m\u001b[1;34m'left'\u001b[0m\u001b[1;33m,\u001b[0m \u001b[0mon\u001b[0m\u001b[1;33m=\u001b[0m\u001b[1;34m'date'\u001b[0m\u001b[1;33m)\u001b[0m\u001b[1;33m\u001b[0m\u001b[1;33m\u001b[0m\u001b[0m\n\u001b[0m\u001b[0;32m      8\u001b[0m \u001b[1;33m\u001b[0m\u001b[0m\n\u001b[0;32m      9\u001b[0m \u001b[0mfx_dataset\u001b[0m\u001b[1;33m.\u001b[0m\u001b[0mset_index\u001b[0m\u001b[1;33m(\u001b[0m\u001b[1;34m\"date\"\u001b[0m\u001b[1;33m,\u001b[0m \u001b[0minplace\u001b[0m\u001b[1;33m=\u001b[0m\u001b[1;32mTrue\u001b[0m\u001b[1;33m,\u001b[0m \u001b[0mdrop\u001b[0m\u001b[1;33m=\u001b[0m\u001b[1;32mTrue\u001b[0m\u001b[1;33m)\u001b[0m\u001b[1;33m\u001b[0m\u001b[1;33m\u001b[0m\u001b[0m\n",
      "\u001b[1;32m~\\anaconda3\\lib\\site-packages\\pandas\\core\\frame.py\u001b[0m in \u001b[0;36mmerge\u001b[1;34m(self, right, how, on, left_on, right_on, left_index, right_index, sort, suffixes, copy, indicator, validate)\u001b[0m\n\u001b[0;32m   7961\u001b[0m             \u001b[0mcopy\u001b[0m\u001b[1;33m=\u001b[0m\u001b[0mcopy\u001b[0m\u001b[1;33m,\u001b[0m\u001b[1;33m\u001b[0m\u001b[1;33m\u001b[0m\u001b[0m\n\u001b[0;32m   7962\u001b[0m             \u001b[0mindicator\u001b[0m\u001b[1;33m=\u001b[0m\u001b[0mindicator\u001b[0m\u001b[1;33m,\u001b[0m\u001b[1;33m\u001b[0m\u001b[1;33m\u001b[0m\u001b[0m\n\u001b[1;32m-> 7963\u001b[1;33m             \u001b[0mvalidate\u001b[0m\u001b[1;33m=\u001b[0m\u001b[0mvalidate\u001b[0m\u001b[1;33m,\u001b[0m\u001b[1;33m\u001b[0m\u001b[1;33m\u001b[0m\u001b[0m\n\u001b[0m\u001b[0;32m   7964\u001b[0m         )\n\u001b[0;32m   7965\u001b[0m \u001b[1;33m\u001b[0m\u001b[0m\n",
      "\u001b[1;32m~\\anaconda3\\lib\\site-packages\\pandas\\core\\reshape\\merge.py\u001b[0m in \u001b[0;36mmerge\u001b[1;34m(left, right, how, on, left_on, right_on, left_index, right_index, sort, suffixes, copy, indicator, validate)\u001b[0m\n\u001b[0;32m     85\u001b[0m         \u001b[0mcopy\u001b[0m\u001b[1;33m=\u001b[0m\u001b[0mcopy\u001b[0m\u001b[1;33m,\u001b[0m\u001b[1;33m\u001b[0m\u001b[1;33m\u001b[0m\u001b[0m\n\u001b[0;32m     86\u001b[0m         \u001b[0mindicator\u001b[0m\u001b[1;33m=\u001b[0m\u001b[0mindicator\u001b[0m\u001b[1;33m,\u001b[0m\u001b[1;33m\u001b[0m\u001b[1;33m\u001b[0m\u001b[0m\n\u001b[1;32m---> 87\u001b[1;33m         \u001b[0mvalidate\u001b[0m\u001b[1;33m=\u001b[0m\u001b[0mvalidate\u001b[0m\u001b[1;33m,\u001b[0m\u001b[1;33m\u001b[0m\u001b[1;33m\u001b[0m\u001b[0m\n\u001b[0m\u001b[0;32m     88\u001b[0m     )\n\u001b[0;32m     89\u001b[0m     \u001b[1;32mreturn\u001b[0m \u001b[0mop\u001b[0m\u001b[1;33m.\u001b[0m\u001b[0mget_result\u001b[0m\u001b[1;33m(\u001b[0m\u001b[1;33m)\u001b[0m\u001b[1;33m\u001b[0m\u001b[1;33m\u001b[0m\u001b[0m\n",
      "\u001b[1;32m~\\anaconda3\\lib\\site-packages\\pandas\\core\\reshape\\merge.py\u001b[0m in \u001b[0;36m__init__\u001b[1;34m(self, left, right, how, on, left_on, right_on, axis, left_index, right_index, sort, suffixes, copy, indicator, validate)\u001b[0m\n\u001b[0;32m    650\u001b[0m             \u001b[0mself\u001b[0m\u001b[1;33m.\u001b[0m\u001b[0mright_join_keys\u001b[0m\u001b[1;33m,\u001b[0m\u001b[1;33m\u001b[0m\u001b[1;33m\u001b[0m\u001b[0m\n\u001b[0;32m    651\u001b[0m             \u001b[0mself\u001b[0m\u001b[1;33m.\u001b[0m\u001b[0mjoin_names\u001b[0m\u001b[1;33m,\u001b[0m\u001b[1;33m\u001b[0m\u001b[1;33m\u001b[0m\u001b[0m\n\u001b[1;32m--> 652\u001b[1;33m         ) = self._get_merge_keys()\n\u001b[0m\u001b[0;32m    653\u001b[0m \u001b[1;33m\u001b[0m\u001b[0m\n\u001b[0;32m    654\u001b[0m         \u001b[1;31m# validate the merge keys dtypes. We may need to coerce\u001b[0m\u001b[1;33m\u001b[0m\u001b[1;33m\u001b[0m\u001b[1;33m\u001b[0m\u001b[0m\n",
      "\u001b[1;32m~\\anaconda3\\lib\\site-packages\\pandas\\core\\reshape\\merge.py\u001b[0m in \u001b[0;36m_get_merge_keys\u001b[1;34m(self)\u001b[0m\n\u001b[0;32m   1003\u001b[0m                     \u001b[1;32mif\u001b[0m \u001b[1;32mnot\u001b[0m \u001b[0mis_rkey\u001b[0m\u001b[1;33m(\u001b[0m\u001b[0mrk\u001b[0m\u001b[1;33m)\u001b[0m\u001b[1;33m:\u001b[0m\u001b[1;33m\u001b[0m\u001b[1;33m\u001b[0m\u001b[0m\n\u001b[0;32m   1004\u001b[0m                         \u001b[1;32mif\u001b[0m \u001b[0mrk\u001b[0m \u001b[1;32mis\u001b[0m \u001b[1;32mnot\u001b[0m \u001b[1;32mNone\u001b[0m\u001b[1;33m:\u001b[0m\u001b[1;33m\u001b[0m\u001b[1;33m\u001b[0m\u001b[0m\n\u001b[1;32m-> 1005\u001b[1;33m                             \u001b[0mright_keys\u001b[0m\u001b[1;33m.\u001b[0m\u001b[0mappend\u001b[0m\u001b[1;33m(\u001b[0m\u001b[0mright\u001b[0m\u001b[1;33m.\u001b[0m\u001b[0m_get_label_or_level_values\u001b[0m\u001b[1;33m(\u001b[0m\u001b[0mrk\u001b[0m\u001b[1;33m)\u001b[0m\u001b[1;33m)\u001b[0m\u001b[1;33m\u001b[0m\u001b[1;33m\u001b[0m\u001b[0m\n\u001b[0m\u001b[0;32m   1006\u001b[0m                         \u001b[1;32melse\u001b[0m\u001b[1;33m:\u001b[0m\u001b[1;33m\u001b[0m\u001b[1;33m\u001b[0m\u001b[0m\n\u001b[0;32m   1007\u001b[0m                             \u001b[1;31m# work-around for merge_asof(right_index=True)\u001b[0m\u001b[1;33m\u001b[0m\u001b[1;33m\u001b[0m\u001b[1;33m\u001b[0m\u001b[0m\n",
      "\u001b[1;32m~\\anaconda3\\lib\\site-packages\\pandas\\core\\generic.py\u001b[0m in \u001b[0;36m_get_label_or_level_values\u001b[1;34m(self, key, axis)\u001b[0m\n\u001b[0;32m   1561\u001b[0m             \u001b[0mvalues\u001b[0m \u001b[1;33m=\u001b[0m \u001b[0mself\u001b[0m\u001b[1;33m.\u001b[0m\u001b[0maxes\u001b[0m\u001b[1;33m[\u001b[0m\u001b[0maxis\u001b[0m\u001b[1;33m]\u001b[0m\u001b[1;33m.\u001b[0m\u001b[0mget_level_values\u001b[0m\u001b[1;33m(\u001b[0m\u001b[0mkey\u001b[0m\u001b[1;33m)\u001b[0m\u001b[1;33m.\u001b[0m\u001b[0m_values\u001b[0m\u001b[1;33m\u001b[0m\u001b[1;33m\u001b[0m\u001b[0m\n\u001b[0;32m   1562\u001b[0m         \u001b[1;32melse\u001b[0m\u001b[1;33m:\u001b[0m\u001b[1;33m\u001b[0m\u001b[1;33m\u001b[0m\u001b[0m\n\u001b[1;32m-> 1563\u001b[1;33m             \u001b[1;32mraise\u001b[0m \u001b[0mKeyError\u001b[0m\u001b[1;33m(\u001b[0m\u001b[0mkey\u001b[0m\u001b[1;33m)\u001b[0m\u001b[1;33m\u001b[0m\u001b[1;33m\u001b[0m\u001b[0m\n\u001b[0m\u001b[0;32m   1564\u001b[0m \u001b[1;33m\u001b[0m\u001b[0m\n\u001b[0;32m   1565\u001b[0m         \u001b[1;31m# Check for duplicates\u001b[0m\u001b[1;33m\u001b[0m\u001b[1;33m\u001b[0m\u001b[1;33m\u001b[0m\u001b[0m\n",
      "\u001b[1;31mKeyError\u001b[0m: 'date'"
     ]
    }
   ],
   "source": [
    "fx_dataset = china_yieldcurve_10vs2\n",
    "fx_dataset = fx_dataset.merge(usdcny, how='left', left_index=True, right_index=True)\n",
    "fx_dataset = fx_dataset.merge(china_10yr, how='left')\n",
    "fx_dataset = fx_dataset.merge(china_2yr, how='left')\n",
    "fx_dataset = fx_dataset.merge(china_bop_monthly, how='left')\n",
    "fx_dataset = fx_dataset.merge(china_yieldcurve_10vs2, how='left')\n",
    "fx_dataset = fx_dataset.merge(usa_10yr, how='left', on='date')\n",
    "\n",
    "fx_dataset.set_index(\"date\", inplace=True, drop=True)\n",
    "fx_dataset = fx_dataset.merge(china_epu_chinese_tpu, how='left', left_index=True, right_index=True)\n",
    "fx_dataset = fx_dataset.merge(china_epu_english, how='left', left_index=True, right_index=True)\n",
    "fx_dataset = fx_dataset.loc[\"2005-01-01\" : \"2020-06-30\"]\n",
    "\n",
    "fx_dataset"
   ]
  },
  {
   "cell_type": "code",
   "execution_count": null,
   "metadata": {},
   "outputs": [],
   "source": [
    "china_tradebalance['china_tradebalance'] = china_tradebalance['china_tradebalance']/gdp_china['gdp_china']\n",
    "\n",
    "fx_dataset = fx_dataset.merge(\n",
    "fx_dataset = fx_dataset.merge(\n",
    "fx_dataset = fx_dataset.merge(\n",
    "fx_dataset = fx_dataset.merge(\n",
    "    fx_dataset = fx_dataset.merge(china_tradebalance, how='left')\n",
    "\n",
    "\n",
    "\n",
    "\n",
    "  \n",
    "    \n",
    "\n",
    "fx_dataset = fx_dataset.loc[\"2005-01-01\" : \"2020-06-30\"]\n",
    "\n",
    "\n"
   ]
  },
  {
   "cell_type": "code",
   "execution_count": null,
   "metadata": {},
   "outputs": [],
   "source": [
    "frames = [usdcny, cpi_china, cpi_usa, cpi_differential, exports_china, imports_china, m2_yoy_china, usa_2yr, usa_10yr, china_epu_chinese_tpu, china_epu_english]\n",
    "result = pd.concat(frames)\n",
    "                          \n",
    "rmbdataset = []\n",
    "rmbdataset = result.loc[\"2005-01-01\" : \"2020-06-30\"]\n",
    "print(rmbdataset)\n",
    "\n",
    "print(rmbdataset[\"cpi_china_yoy\"])"
   ]
  },
  {
   "cell_type": "code",
   "execution_count": null,
   "metadata": {},
   "outputs": [],
   "source": []
  },
  {
   "cell_type": "code",
   "execution_count": 16,
   "metadata": {},
   "outputs": [
    {
     "ename": "KeyError",
     "evalue": "'china_tradebalance'",
     "output_type": "error",
     "traceback": [
      "\u001b[1;31m---------------------------------------------------------------------------\u001b[0m",
      "\u001b[1;31mKeyError\u001b[0m                                  Traceback (most recent call last)",
      "\u001b[1;32m~\\anaconda3\\lib\\site-packages\\pandas\\core\\indexes\\base.py\u001b[0m in \u001b[0;36mget_loc\u001b[1;34m(self, key, method, tolerance)\u001b[0m\n\u001b[0;32m   2894\u001b[0m             \u001b[1;32mtry\u001b[0m\u001b[1;33m:\u001b[0m\u001b[1;33m\u001b[0m\u001b[1;33m\u001b[0m\u001b[0m\n\u001b[1;32m-> 2895\u001b[1;33m                 \u001b[1;32mreturn\u001b[0m \u001b[0mself\u001b[0m\u001b[1;33m.\u001b[0m\u001b[0m_engine\u001b[0m\u001b[1;33m.\u001b[0m\u001b[0mget_loc\u001b[0m\u001b[1;33m(\u001b[0m\u001b[0mcasted_key\u001b[0m\u001b[1;33m)\u001b[0m\u001b[1;33m\u001b[0m\u001b[1;33m\u001b[0m\u001b[0m\n\u001b[0m\u001b[0;32m   2896\u001b[0m             \u001b[1;32mexcept\u001b[0m \u001b[0mKeyError\u001b[0m \u001b[1;32mas\u001b[0m \u001b[0merr\u001b[0m\u001b[1;33m:\u001b[0m\u001b[1;33m\u001b[0m\u001b[1;33m\u001b[0m\u001b[0m\n",
      "\u001b[1;32mpandas\\_libs\\index.pyx\u001b[0m in \u001b[0;36mpandas._libs.index.IndexEngine.get_loc\u001b[1;34m()\u001b[0m\n",
      "\u001b[1;32mpandas\\_libs\\index.pyx\u001b[0m in \u001b[0;36mpandas._libs.index.IndexEngine.get_loc\u001b[1;34m()\u001b[0m\n",
      "\u001b[1;32mpandas\\_libs\\hashtable_class_helper.pxi\u001b[0m in \u001b[0;36mpandas._libs.hashtable.PyObjectHashTable.get_item\u001b[1;34m()\u001b[0m\n",
      "\u001b[1;32mpandas\\_libs\\hashtable_class_helper.pxi\u001b[0m in \u001b[0;36mpandas._libs.hashtable.PyObjectHashTable.get_item\u001b[1;34m()\u001b[0m\n",
      "\u001b[1;31mKeyError\u001b[0m: 'china_tradebalance'",
      "\nThe above exception was the direct cause of the following exception:\n",
      "\u001b[1;31mKeyError\u001b[0m                                  Traceback (most recent call last)",
      "\u001b[1;32m<ipython-input-16-537012982680>\u001b[0m in \u001b[0;36m<module>\u001b[1;34m\u001b[0m\n\u001b[0;32m      9\u001b[0m \u001b[0mchina_tradebalance\u001b[0m \u001b[1;33m=\u001b[0m \u001b[0mceicdata\u001b[0m\u001b[1;33m.\u001b[0m\u001b[0mdrop\u001b[0m\u001b[1;33m(\u001b[0m\u001b[0mceicdata\u001b[0m\u001b[1;33m.\u001b[0m\u001b[0mcolumns\u001b[0m\u001b[1;33m[\u001b[0m\u001b[1;36m2\u001b[0m\u001b[1;33m:\u001b[0m\u001b[1;33m]\u001b[0m\u001b[1;33m,\u001b[0m \u001b[0maxis\u001b[0m\u001b[1;33m=\u001b[0m\u001b[1;36m1\u001b[0m\u001b[1;33m)\u001b[0m\u001b[1;33m\u001b[0m\u001b[1;33m\u001b[0m\u001b[0m\n\u001b[0;32m     10\u001b[0m \u001b[0mchina_tradebalance\u001b[0m \u001b[1;33m=\u001b[0m \u001b[0mchina_tradebalance\u001b[0m\u001b[1;33m.\u001b[0m\u001b[0mloc\u001b[0m\u001b[1;33m[\u001b[0m\u001b[1;34m\"2005-01-31\"\u001b[0m\u001b[1;33m:\u001b[0m \u001b[1;34m\"2020-06-30\"\u001b[0m\u001b[1;33m]\u001b[0m\u001b[1;33m\u001b[0m\u001b[1;33m\u001b[0m\u001b[0m\n\u001b[1;32m---> 11\u001b[1;33m \u001b[0mchina_tradebalance\u001b[0m \u001b[1;33m=\u001b[0m \u001b[0mchina_tradebalance\u001b[0m\u001b[1;33m[\u001b[0m\u001b[1;34m'china_tradebalance'\u001b[0m\u001b[1;33m]\u001b[0m\u001b[1;33m.\u001b[0m\u001b[0mdivide\u001b[0m\u001b[1;33m(\u001b[0m\u001b[0mgdp_china\u001b[0m\u001b[1;33m[\u001b[0m\u001b[1;34m'gdp_china'\u001b[0m\u001b[1;33m]\u001b[0m\u001b[1;33m)\u001b[0m\u001b[1;33m\u001b[0m\u001b[1;33m\u001b[0m\u001b[0m\n\u001b[0m",
      "\u001b[1;32m~\\anaconda3\\lib\\site-packages\\pandas\\core\\frame.py\u001b[0m in \u001b[0;36m__getitem__\u001b[1;34m(self, key)\u001b[0m\n\u001b[0;32m   2904\u001b[0m             \u001b[1;32mif\u001b[0m \u001b[0mself\u001b[0m\u001b[1;33m.\u001b[0m\u001b[0mcolumns\u001b[0m\u001b[1;33m.\u001b[0m\u001b[0mnlevels\u001b[0m \u001b[1;33m>\u001b[0m \u001b[1;36m1\u001b[0m\u001b[1;33m:\u001b[0m\u001b[1;33m\u001b[0m\u001b[1;33m\u001b[0m\u001b[0m\n\u001b[0;32m   2905\u001b[0m                 \u001b[1;32mreturn\u001b[0m \u001b[0mself\u001b[0m\u001b[1;33m.\u001b[0m\u001b[0m_getitem_multilevel\u001b[0m\u001b[1;33m(\u001b[0m\u001b[0mkey\u001b[0m\u001b[1;33m)\u001b[0m\u001b[1;33m\u001b[0m\u001b[1;33m\u001b[0m\u001b[0m\n\u001b[1;32m-> 2906\u001b[1;33m             \u001b[0mindexer\u001b[0m \u001b[1;33m=\u001b[0m \u001b[0mself\u001b[0m\u001b[1;33m.\u001b[0m\u001b[0mcolumns\u001b[0m\u001b[1;33m.\u001b[0m\u001b[0mget_loc\u001b[0m\u001b[1;33m(\u001b[0m\u001b[0mkey\u001b[0m\u001b[1;33m)\u001b[0m\u001b[1;33m\u001b[0m\u001b[1;33m\u001b[0m\u001b[0m\n\u001b[0m\u001b[0;32m   2907\u001b[0m             \u001b[1;32mif\u001b[0m \u001b[0mis_integer\u001b[0m\u001b[1;33m(\u001b[0m\u001b[0mindexer\u001b[0m\u001b[1;33m)\u001b[0m\u001b[1;33m:\u001b[0m\u001b[1;33m\u001b[0m\u001b[1;33m\u001b[0m\u001b[0m\n\u001b[0;32m   2908\u001b[0m                 \u001b[0mindexer\u001b[0m \u001b[1;33m=\u001b[0m \u001b[1;33m[\u001b[0m\u001b[0mindexer\u001b[0m\u001b[1;33m]\u001b[0m\u001b[1;33m\u001b[0m\u001b[1;33m\u001b[0m\u001b[0m\n",
      "\u001b[1;32m~\\anaconda3\\lib\\site-packages\\pandas\\core\\indexes\\base.py\u001b[0m in \u001b[0;36mget_loc\u001b[1;34m(self, key, method, tolerance)\u001b[0m\n\u001b[0;32m   2895\u001b[0m                 \u001b[1;32mreturn\u001b[0m \u001b[0mself\u001b[0m\u001b[1;33m.\u001b[0m\u001b[0m_engine\u001b[0m\u001b[1;33m.\u001b[0m\u001b[0mget_loc\u001b[0m\u001b[1;33m(\u001b[0m\u001b[0mcasted_key\u001b[0m\u001b[1;33m)\u001b[0m\u001b[1;33m\u001b[0m\u001b[1;33m\u001b[0m\u001b[0m\n\u001b[0;32m   2896\u001b[0m             \u001b[1;32mexcept\u001b[0m \u001b[0mKeyError\u001b[0m \u001b[1;32mas\u001b[0m \u001b[0merr\u001b[0m\u001b[1;33m:\u001b[0m\u001b[1;33m\u001b[0m\u001b[1;33m\u001b[0m\u001b[0m\n\u001b[1;32m-> 2897\u001b[1;33m                 \u001b[1;32mraise\u001b[0m \u001b[0mKeyError\u001b[0m\u001b[1;33m(\u001b[0m\u001b[0mkey\u001b[0m\u001b[1;33m)\u001b[0m \u001b[1;32mfrom\u001b[0m \u001b[0merr\u001b[0m\u001b[1;33m\u001b[0m\u001b[1;33m\u001b[0m\u001b[0m\n\u001b[0m\u001b[0;32m   2898\u001b[0m \u001b[1;33m\u001b[0m\u001b[0m\n\u001b[0;32m   2899\u001b[0m         \u001b[1;32mif\u001b[0m \u001b[0mtolerance\u001b[0m \u001b[1;32mis\u001b[0m \u001b[1;32mnot\u001b[0m \u001b[1;32mNone\u001b[0m\u001b[1;33m:\u001b[0m\u001b[1;33m\u001b[0m\u001b[1;33m\u001b[0m\u001b[0m\n",
      "\u001b[1;31mKeyError\u001b[0m: 'china_tradebalance'"
     ]
    }
   ],
   "source": [
    "\n",
    "gdp_china = quandl.get(\"NBSC/A010101_Q\")\n",
    "gdp_china.columns = [\"gdp_china\"]\n",
    "gdp_china = gdp_china.resample('M').fillna(method=\"ffill\")\n",
    "gdp_china = gdp_china.loc[\"2005-01-01\" : \"2020-06-30\"]\n",
    "gdp_china = gdp_china.rename_axis('date')\n",
    "\n",
    "china_tradebalance = ceicdata.drop(ceicdata.columns[2:], axis=1)\n",
    "china_tradebalance = china_tradebalance.rename(columns = {'CN: Trade Balance': 'china_tradebalance'},inplace=True)\n",
    "china_tradebalance = ceicdata.drop(ceicdata.columns[2:], axis=1)\n",
    "china_tradebalance = china_tradebalance.loc[\"2005-01-31\": \"2020-06-30\"]\n",
    "china_tradebalance = china_tradebalance['china_tradebalance'].divide(gdp_china['gdp_china'])\n"
   ]
  },
  {
   "cell_type": "code",
   "execution_count": null,
   "metadata": {},
   "outputs": [],
   "source": []
  },
  {
   "cell_type": "code",
   "execution_count": null,
   "metadata": {},
   "outputs": [],
   "source": []
  },
  {
   "cell_type": "code",
   "execution_count": null,
   "metadata": {},
   "outputs": [],
   "source": []
  },
  {
   "cell_type": "code",
   "execution_count": null,
   "metadata": {},
   "outputs": [],
   "source": []
  },
  {
   "cell_type": "code",
   "execution_count": null,
   "metadata": {},
   "outputs": [],
   "source": []
  },
  {
   "cell_type": "code",
   "execution_count": null,
   "metadata": {},
   "outputs": [],
   "source": []
  },
  {
   "cell_type": "code",
   "execution_count": null,
   "metadata": {},
   "outputs": [],
   "source": []
  },
  {
   "cell_type": "code",
   "execution_count": null,
   "metadata": {},
   "outputs": [],
   "source": []
  },
  {
   "cell_type": "code",
   "execution_count": null,
   "metadata": {},
   "outputs": [],
   "source": []
  },
  {
   "cell_type": "code",
   "execution_count": null,
   "metadata": {},
   "outputs": [],
   "source": []
  }
 ],
 "metadata": {
  "kernelspec": {
   "display_name": "Python 3",
   "language": "python",
   "name": "python3"
  },
  "language_info": {
   "codemirror_mode": {
    "name": "ipython",
    "version": 3
   },
   "file_extension": ".py",
   "mimetype": "text/x-python",
   "name": "python",
   "nbconvert_exporter": "python",
   "pygments_lexer": "ipython3",
   "version": "3.7.6"
  }
 },
 "nbformat": 4,
 "nbformat_minor": 4
}
